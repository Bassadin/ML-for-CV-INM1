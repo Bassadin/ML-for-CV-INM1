{
 "cells": [
  {
   "cell_type": "markdown",
   "metadata": {},
   "source": [
    "# Aufgabe2\n",
    "\n",
    "Die Türme von Hanoi sind ein mathematisches Knobel- und Geduldsspiel.\n",
    "Das Spiel besteht aus drei gleich großen Stäben A, B und C, auf die mehrere gelochte Scheiben\n",
    "gelegt werden, alle verschieden groß. Zu Beginn liegen alle Scheiben auf Stab A, der Größe nach\n",
    "geordnet, mit der größten Scheibe unten und der kleinsten oben. Ziel des Spiels ist es, den\n",
    "kompletten Scheiben-Stapel von A nach C zu versetzen.\n",
    "\n",
    "Bei jedem Zug darf die oberste Scheibe eines beliebigen Stabes unter der Voraussetzung, dass\n",
    "sich dort nicht schon eine kleinere Scheibe befindet, auf einen der beiden anderen Stäbe gelegt\n",
    "werden. Folglich sind zu jedem Zeitpunkt des Spieles die Scheiben auf jedem Feld der Größe\n",
    "nach geordnet.\n",
    "\n",
    "a) Finden Sie eine Lösung des Problems mit drei Scheiben.\n",
    "\n",
    "Siehe unten.\n",
    "\n",
    "b) Wie viele Schritte benötigt Ihr Algorithmus zum lösen des Problems mit drei Scheiben?\n",
    "\n",
    "7 Schritte\n",
    "\n",
    "c) Schreiben Sie einen Algorithmus in python, um das Problem zu lösen für beliebig viele\n",
    "Scheiben. Erstellen Sie dazu ein jupyter Notebook und kommentieren Sie Ihren Code.\n",
    "\n",
    "Siehe unten.\n"
   ]
  },
  {
   "cell_type": "code",
   "execution_count": 4,
   "metadata": {},
   "outputs": [
    {
     "name": "stdout",
     "output_type": "stream",
     "text": [
      "Move disk #1 from pole #A to pole #C\n",
      "Move disk #2 from pole #A to pole #B\n",
      "Move disk #1 from pole #C to pole #B\n",
      "Move disk #3 from pole #A to pole #C\n",
      "Move disk #1 from pole #B to pole #A\n",
      "Move disk #2 from pole #B to pole #C\n",
      "Move disk #1 from pole #A to pole #C\n"
     ]
    }
   ],
   "source": [
    "def TowerOfHanoiRecursive(n, sourcePole, destinationPole, intermittentPole):\n",
    "    # Print the last move as a terminating condition\n",
    "    if n == 1:\n",
    "        print(\"Move disk #1 from pole #\" + sourcePole + \" to pole #\" + destinationPole)\n",
    "        return\n",
    "    TowerOfHanoiRecursive(n - 1, sourcePole, intermittentPole, destinationPole)\n",
    "    # Print the current move to make\n",
    "    print(\n",
    "        \"Move disk #\"\n",
    "        + str(n)\n",
    "        + \" from pole #\"\n",
    "        + sourcePole\n",
    "        + \" to pole #\"\n",
    "        + destinationPole\n",
    "    )\n",
    "    TowerOfHanoiRecursive(n - 1, intermittentPole, destinationPole, sourcePole)\n",
    "\n",
    "\n",
    "amountOfDisks = 3\n",
    "# A, B and C are the names of the poles\n",
    "TowerOfHanoiRecursive(amountOfDisks, \"A\", \"C\", \"B\")\n"
   ]
  }
 ],
 "metadata": {
  "interpreter": {
   "hash": "ac59ebe37160ed0dfa835113d9b8498d9f09ceb179beaac4002f036b9467c963"
  },
  "kernelspec": {
   "display_name": "Python 3.9.6 64-bit",
   "language": "python",
   "name": "python3"
  },
  "language_info": {
   "codemirror_mode": {
    "name": "ipython",
    "version": 3
   },
   "file_extension": ".py",
   "mimetype": "text/x-python",
   "name": "python",
   "nbconvert_exporter": "python",
   "pygments_lexer": "ipython3",
   "version": "3.9.6"
  },
  "orig_nbformat": 4
 },
 "nbformat": 4,
 "nbformat_minor": 2
}
