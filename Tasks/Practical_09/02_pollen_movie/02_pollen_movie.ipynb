{
 "cells": [
  {
   "cell_type": "code",
   "execution_count": null,
   "metadata": {},
   "outputs": [],
   "source": [
    "def transformArray():\n",
    "    trgPos = lev, row, col, 1\n",
    "    srcPos = myproduct(invMat, trgPos)\n",
    "    trgArr(lev, row, col) = interpolNN(srcArr, srcPos)\n",
    "\n",
    "def main():\n",
    "    # Something seomthing load data"
   ]
  }
 ],
 "metadata": {
  "language_info": {
   "name": "python"
  },
  "orig_nbformat": 4
 },
 "nbformat": 4,
 "nbformat_minor": 2
}
