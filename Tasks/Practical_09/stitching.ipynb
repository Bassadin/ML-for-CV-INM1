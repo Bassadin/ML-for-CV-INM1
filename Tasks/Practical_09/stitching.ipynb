{
 "cells": [
  {
   "cell_type": "markdown",
   "metadata": {},
   "source": [
    "# Stitching Example with OpenCV\n",
    "\n",
    "We used <https://www.geeksforgeeks.org/opencv-panorama-stitching/> as you had to enroll in a course to get the other code example..."
   ]
  },
  {
   "cell_type": "code",
   "execution_count": 3,
   "metadata": {},
   "outputs": [
    {
     "name": "stdout",
     "output_type": "stream",
     "text": [
      "Panorama is ready\n"
     ]
    },
    {
     "data": {
      "text/plain": [
       "-1"
      ]
     },
     "execution_count": 3,
     "metadata": {},
     "output_type": "execute_result"
    }
   ],
   "source": [
    "import cv2\n",
    "\n",
    "imagePaths = [\n",
    "    \"images_for_blending/building1.jpg\",\n",
    "    \"images_for_blending/building2.jpg\",\n",
    "    \"images_for_blending/building3.jpg\",\n",
    "    \"images_for_blending/building4.jpg\",\n",
    "    \"images_for_blending/building5.jpg\",\n",
    "]\n",
    "# initialized a list of images\n",
    "imgs = []\n",
    "\n",
    "for i in range(len(imagePaths)):\n",
    "    imgs.append(cv2.imread(imagePaths[i]))\n",
    "    # imgs[i] = cv2.resize(imgs[i], (0, 0), fx=0.8, fy=0.8)\n",
    "\n",
    "\n",
    "stitchy = cv2.Stitcher.create()\n",
    "(dummy, output) = stitchy.stitch(imgs)\n",
    "\n",
    "if dummy != cv2.STITCHER_OK:\n",
    "    print(\"stitching not successful\")\n",
    "else:\n",
    "    print(\"Panorama is ready\")\n",
    "\n",
    "# final output\n",
    "cv2.imshow(\"final result\", output)\n",
    "cv2.waitKey(0)\n"
   ]
  }
 ],
 "metadata": {
  "interpreter": {
   "hash": "369f2c481f4da34e4445cda3fffd2e751bd1c4d706f27375911949ba6bb62e1c"
  },
  "kernelspec": {
   "display_name": "Python 3.10.1 64-bit",
   "language": "python",
   "name": "python3"
  },
  "language_info": {
   "codemirror_mode": {
    "name": "ipython",
    "version": 3
   },
   "file_extension": ".py",
   "mimetype": "text/x-python",
   "name": "python",
   "nbconvert_exporter": "python",
   "pygments_lexer": "ipython3",
   "version": "3.10.1"
  },
  "orig_nbformat": 4
 },
 "nbformat": 4,
 "nbformat_minor": 2
}
