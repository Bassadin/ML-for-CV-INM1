{
 "cells": [
  {
   "cell_type": "markdown",
   "metadata": {},
   "source": [
    "## Maschinelles Lernen SS 2022\n",
    "\n",
    "Hochschule Furtwangen, Prof. Temerinac-Ott\n",
    "\n",
    "### Praktikum 3\n",
    "\n",
    "Template Matching in verschiedenen Fällen"
   ]
  },
  {
   "cell_type": "code",
   "execution_count": null,
   "metadata": {},
   "outputs": [],
   "source": [
    "# necessary includes\n",
    "import numpy as np \n",
    "import matplotlib.pyplot as plt\n",
    "from skimage import io\n",
    "from skimage.feature import match_template"
   ]
  },
  {
   "cell_type": "markdown",
   "metadata": {},
   "source": [
    "Laden Sie die gegebenen Graubilder \"image.jpg\" und \"template1.jpg\" \n",
    "\n",
    "Siehe: http://scikit-image.org/docs/dev/api/skimage.io.html#skimage.io.imread\n",
    "\n",
    "Zeigen Sie die Bilder an."
   ]
  },
  {
   "cell_type": "code",
   "execution_count": null,
   "metadata": {},
   "outputs": [],
   "source": []
  },
  {
   "cell_type": "markdown",
   "metadata": {},
   "source": [
    "Führen Sie eine normaliesierte Kreuzkorrelation der beiden Bilder durch und speichern Sie das ergebnis in der Variable `corr_image`\n",
    "\n",
    "Relevante Funktion: \n",
    "http://scikit-image.org/docs/dev/api/skimage.feature.html#skimage.feature.match_template"
   ]
  },
  {
   "cell_type": "code",
   "execution_count": null,
   "metadata": {},
   "outputs": [],
   "source": []
  },
  {
   "cell_type": "markdown",
   "metadata": {},
   "source": [
    "Zeigen Sie nun das Ergebnis (als Bild) an. Verwenden Sie `plt.cm.plasma` als Colormap. Damit erscheinen die Stellen im Bild, die dem Template ähnlich sind, heller als nicht passende Stellen. (siehe Skript...)"
   ]
  },
  {
   "cell_type": "code",
   "execution_count": null,
   "metadata": {},
   "outputs": [],
   "source": []
  },
  {
   "cell_type": "markdown",
   "metadata": {},
   "source": [
    "Finden Sie nun die Stelle im Bild, an der das Template am besten passt.\n",
    "\n",
    "Relevante Funktionen:\n",
    "https://docs.scipy.org/doc/numpy-1.15.1/reference/generated/numpy.argmax.html\n",
    "https://docs.scipy.org/doc/numpy-1.15.0/reference/generated/numpy.unravel_index.html"
   ]
  },
  {
   "cell_type": "code",
   "execution_count": null,
   "metadata": {},
   "outputs": [],
   "source": []
  },
  {
   "cell_type": "markdown",
   "metadata": {},
   "source": [
    "Zeichnen Sie diese Stelle im Originalbild als Recheck ein (siehe Skript...).\n"
   ]
  },
  {
   "cell_type": "code",
   "execution_count": null,
   "metadata": {},
   "outputs": [],
   "source": []
  },
  {
   "cell_type": "markdown",
   "metadata": {},
   "source": [
    "Speichern sie das Ergebniss für jedes der templates in eine Datei (plt.savefig('correlation_image_template1.png',dpi=300,facecolor='white')) "
   ]
  },
  {
   "cell_type": "markdown",
   "metadata": {},
   "source": [
    "Wiederholen Sie die Korrelation mit den anderen bereitgestellten Bildern. Was fällt Ihnen jeweils auf?"
   ]
  },
  {
   "cell_type": "code",
   "execution_count": null,
   "metadata": {},
   "outputs": [],
   "source": []
  }
 ],
 "metadata": {
  "kernelspec": {
   "display_name": "Python 3",
   "language": "python",
   "name": "python3"
  },
  "language_info": {
   "codemirror_mode": {
    "name": "ipython",
    "version": 3
   },
   "file_extension": ".py",
   "mimetype": "text/x-python",
   "name": "python",
   "nbconvert_exporter": "python",
   "pygments_lexer": "ipython3",
   "version": "3.7.10"
  }
 },
 "nbformat": 4,
 "nbformat_minor": 2
}
