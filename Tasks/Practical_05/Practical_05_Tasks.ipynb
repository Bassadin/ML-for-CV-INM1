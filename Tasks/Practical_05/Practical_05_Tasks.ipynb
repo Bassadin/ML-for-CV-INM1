{
 "cells": [
  {
   "cell_type": "markdown",
   "metadata": {},
   "source": [
    "Praktikum 5\n",
    "\n",
    "Aufgabe 2)"
   ]
  },
  {
   "cell_type": "code",
   "execution_count": 22,
   "metadata": {},
   "outputs": [
    {
     "name": "stdout",
     "output_type": "stream",
     "text": [
      "[[0.04       0.03      ]\n",
      " [0.03       0.06333333]]\n",
      "[[0.43  0.075]\n",
      " [0.075 0.09 ]]\n"
     ]
    },
    {
     "data": {
      "text/plain": [
       "<Figure size 640x480 with 0 Axes>"
      ]
     },
     "metadata": {},
     "output_type": "display_data"
    }
   ],
   "source": [
    "import matplotlib.pyplot as plt\n",
    "from matplotlib.pyplot import figure\n",
    "import numpy as np\n",
    "\n",
    "def Average(lst):\n",
    "    return sum(lst) / len(lst)\n",
    "\n",
    "\n",
    "figure(figsize=(8, 6), dpi=80)\n",
    "\n",
    "setosa_x = [5.1, 4.9, 4.7]\n",
    "setosa_y = [3.5, 3.0, 3.2]\n",
    "\n",
    "avg_setosa_x = Average(setosa_x)\n",
    "avg_setosa_y = Average(setosa_y)\n",
    "\n",
    "setosa_covariance = np.cov(setosa_x, setosa_y)\n",
    "print(setosa_covariance)\n",
    "\n",
    "virginica_x = [6.3, 5.8, 7.1]\n",
    "virginica_y = [3.3, 2.7, 3.0]\n",
    "\n",
    "avg_virginica_x = Average(virginica_x)\n",
    "avg_virginica_y = Average(virginica_y)\n",
    "\n",
    "virginica_covariance = np.cov(virginica_x, virginica_y)\n",
    "print(virginica_covariance)\n",
    "\n"
   ]
  },
  {
   "cell_type": "code",
   "execution_count": 23,
   "metadata": {},
   "outputs": [
    {
     "name": "stdout",
     "output_type": "stream",
     "text": [
      "[0.01947799 0.08385535] [[-0.82536242 -0.56460328]\n",
      " [ 0.56460328 -0.82536242]]\n",
      "[0.44580904 0.07419096] [[ 0.97849829 -0.20625494]\n",
      " [ 0.20625494  0.97849829]]\n"
     ]
    }
   ],
   "source": [
    "from numpy import linalg as LA\n",
    "\n",
    "setosa_eigenvalues, setosa_eigenvecors = LA.eig(setosa_covariance)\n",
    "print(setosa_eigenvalues, setosa_eigenvecors)\n",
    "\n",
    "virginica_eigenvalues, virginica_eigenvecors = LA.eig(virginica_covariance)\n",
    "print(virginica_eigenvalues, virginica_eigenvecors)"
   ]
  },
  {
   "cell_type": "code",
   "execution_count": 27,
   "metadata": {},
   "outputs": [
    {
     "ename": "TypeError",
     "evalue": "'numpy.float64' object cannot be interpreted as an integer",
     "output_type": "error",
     "traceback": [
      "\u001b[1;31m---------------------------------------------------------------------------\u001b[0m",
      "\u001b[1;31mTypeError\u001b[0m                                 Traceback (most recent call last)",
      "\u001b[1;32mc:\\Users\\basti\\Documents\\Git-Repos\\ML-for-CV-INM1\\Tasks\\Practical_05\\Practical_05_Tasks.ipynb Cell 4'\u001b[0m in \u001b[0;36m<cell line: 7>\u001b[1;34m()\u001b[0m\n\u001b[0;32m      <a href='vscode-notebook-cell:/c%3A/Users/basti/Documents/Git-Repos/ML-for-CV-INM1/Tasks/Practical_05/Practical_05_Tasks.ipynb#ch0000005?line=4'>5</a>\u001b[0m setosa_ellipse_width \u001b[39m=\u001b[39m \u001b[39m2\u001b[39m \u001b[39m*\u001b[39m math\u001b[39m.\u001b[39msqrt(setosa_eigenvalues[\u001b[39m0\u001b[39m])\n\u001b[0;32m      <a href='vscode-notebook-cell:/c%3A/Users/basti/Documents/Git-Repos/ML-for-CV-INM1/Tasks/Practical_05/Practical_05_Tasks.ipynb#ch0000005?line=5'>6</a>\u001b[0m setosa_ellipse_height \u001b[39m=\u001b[39m \u001b[39m2\u001b[39m \u001b[39m*\u001b[39m math\u001b[39m.\u001b[39msqrt(setosa_eigenvalues[\u001b[39m1\u001b[39m])\n\u001b[0;32m      <a href='vscode-notebook-cell:/c%3A/Users/basti/Documents/Git-Repos/ML-for-CV-INM1/Tasks/Practical_05/Practical_05_Tasks.ipynb#ch0000005?line=6'>7</a>\u001b[0m setosa_ellipse_angle \u001b[39m=\u001b[39m math\u001b[39m.\u001b[39matan2(\n\u001b[1;32m----> <a href='vscode-notebook-cell:/c%3A/Users/basti/Documents/Git-Repos/ML-for-CV-INM1/Tasks/Practical_05/Practical_05_Tasks.ipynb#ch0000005?line=7'>8</a>\u001b[0m     np\u001b[39m.\u001b[39;49mamax(setosa_eigenvecors[\u001b[39m0\u001b[39;49m], np\u001b[39m.\u001b[39;49mamax(setosa_eigenvecors[\u001b[39m1\u001b[39;49m]))\n\u001b[0;32m      <a href='vscode-notebook-cell:/c%3A/Users/basti/Documents/Git-Repos/ML-for-CV-INM1/Tasks/Practical_05/Practical_05_Tasks.ipynb#ch0000005?line=8'>9</a>\u001b[0m )\n\u001b[0;32m     <a href='vscode-notebook-cell:/c%3A/Users/basti/Documents/Git-Repos/ML-for-CV-INM1/Tasks/Practical_05/Practical_05_Tasks.ipynb#ch0000005?line=9'>10</a>\u001b[0m ellipse \u001b[39m=\u001b[39m patches\u001b[39m.\u001b[39mEllipse(\n\u001b[0;32m     <a href='vscode-notebook-cell:/c%3A/Users/basti/Documents/Git-Repos/ML-for-CV-INM1/Tasks/Practical_05/Practical_05_Tasks.ipynb#ch0000005?line=10'>11</a>\u001b[0m     (setosa_eigenvalues[\u001b[39m0\u001b[39m], setosa_eigenvalues[\u001b[39m1\u001b[39m]),\n\u001b[0;32m     <a href='vscode-notebook-cell:/c%3A/Users/basti/Documents/Git-Repos/ML-for-CV-INM1/Tasks/Practical_05/Practical_05_Tasks.ipynb#ch0000005?line=11'>12</a>\u001b[0m     width\u001b[39m=\u001b[39msetosa_ellipse_width,\n\u001b[0;32m     <a href='vscode-notebook-cell:/c%3A/Users/basti/Documents/Git-Repos/ML-for-CV-INM1/Tasks/Practical_05/Practical_05_Tasks.ipynb#ch0000005?line=12'>13</a>\u001b[0m     height\u001b[39m=\u001b[39msetosa_ellipse_height,\n\u001b[0;32m     <a href='vscode-notebook-cell:/c%3A/Users/basti/Documents/Git-Repos/ML-for-CV-INM1/Tasks/Practical_05/Practical_05_Tasks.ipynb#ch0000005?line=13'>14</a>\u001b[0m     angle\u001b[39m=\u001b[39msetosa_ellipse_angle,\n\u001b[0;32m     <a href='vscode-notebook-cell:/c%3A/Users/basti/Documents/Git-Repos/ML-for-CV-INM1/Tasks/Practical_05/Practical_05_Tasks.ipynb#ch0000005?line=14'>15</a>\u001b[0m )\n\u001b[0;32m     <a href='vscode-notebook-cell:/c%3A/Users/basti/Documents/Git-Repos/ML-for-CV-INM1/Tasks/Practical_05/Practical_05_Tasks.ipynb#ch0000005?line=16'>17</a>\u001b[0m plt\u001b[39m.\u001b[39mplot(ellipse)\n",
      "File \u001b[1;32m<__array_function__ internals>:180\u001b[0m, in \u001b[0;36mamax\u001b[1;34m(*args, **kwargs)\u001b[0m\n",
      "File \u001b[1;32mC:\\Python310\\lib\\site-packages\\numpy\\core\\fromnumeric.py:2791\u001b[0m, in \u001b[0;36mamax\u001b[1;34m(a, axis, out, keepdims, initial, where)\u001b[0m\n\u001b[0;32m   <a href='file:///c%3A/Python310/lib/site-packages/numpy/core/fromnumeric.py?line=2674'>2675</a>\u001b[0m \u001b[39m@array_function_dispatch\u001b[39m(_amax_dispatcher)\n\u001b[0;32m   <a href='file:///c%3A/Python310/lib/site-packages/numpy/core/fromnumeric.py?line=2675'>2676</a>\u001b[0m \u001b[39mdef\u001b[39;00m \u001b[39mamax\u001b[39m(a, axis\u001b[39m=\u001b[39m\u001b[39mNone\u001b[39;00m, out\u001b[39m=\u001b[39m\u001b[39mNone\u001b[39;00m, keepdims\u001b[39m=\u001b[39mnp\u001b[39m.\u001b[39m_NoValue, initial\u001b[39m=\u001b[39mnp\u001b[39m.\u001b[39m_NoValue,\n\u001b[0;32m   <a href='file:///c%3A/Python310/lib/site-packages/numpy/core/fromnumeric.py?line=2676'>2677</a>\u001b[0m          where\u001b[39m=\u001b[39mnp\u001b[39m.\u001b[39m_NoValue):\n\u001b[0;32m   <a href='file:///c%3A/Python310/lib/site-packages/numpy/core/fromnumeric.py?line=2677'>2678</a>\u001b[0m     \u001b[39m\"\"\"\u001b[39;00m\n\u001b[0;32m   <a href='file:///c%3A/Python310/lib/site-packages/numpy/core/fromnumeric.py?line=2678'>2679</a>\u001b[0m \u001b[39m    Return the maximum of an array or maximum along an axis.\u001b[39;00m\n\u001b[0;32m   <a href='file:///c%3A/Python310/lib/site-packages/numpy/core/fromnumeric.py?line=2679'>2680</a>\u001b[0m \n\u001b[1;32m   (...)\u001b[0m\n\u001b[0;32m   <a href='file:///c%3A/Python310/lib/site-packages/numpy/core/fromnumeric.py?line=2788'>2789</a>\u001b[0m \u001b[39m    5\u001b[39;00m\n\u001b[0;32m   <a href='file:///c%3A/Python310/lib/site-packages/numpy/core/fromnumeric.py?line=2789'>2790</a>\u001b[0m \u001b[39m    \"\"\"\u001b[39;00m\n\u001b[1;32m-> <a href='file:///c%3A/Python310/lib/site-packages/numpy/core/fromnumeric.py?line=2790'>2791</a>\u001b[0m     \u001b[39mreturn\u001b[39;00m _wrapreduction(a, np\u001b[39m.\u001b[39;49mmaximum, \u001b[39m'\u001b[39;49m\u001b[39mmax\u001b[39;49m\u001b[39m'\u001b[39;49m, axis, \u001b[39mNone\u001b[39;49;00m, out,\n\u001b[0;32m   <a href='file:///c%3A/Python310/lib/site-packages/numpy/core/fromnumeric.py?line=2791'>2792</a>\u001b[0m                           keepdims\u001b[39m=\u001b[39;49mkeepdims, initial\u001b[39m=\u001b[39;49minitial, where\u001b[39m=\u001b[39;49mwhere)\n",
      "File \u001b[1;32mC:\\Python310\\lib\\site-packages\\numpy\\core\\fromnumeric.py:86\u001b[0m, in \u001b[0;36m_wrapreduction\u001b[1;34m(obj, ufunc, method, axis, dtype, out, **kwargs)\u001b[0m\n\u001b[0;32m     <a href='file:///c%3A/Python310/lib/site-packages/numpy/core/fromnumeric.py?line=82'>83</a>\u001b[0m         \u001b[39melse\u001b[39;00m:\n\u001b[0;32m     <a href='file:///c%3A/Python310/lib/site-packages/numpy/core/fromnumeric.py?line=83'>84</a>\u001b[0m             \u001b[39mreturn\u001b[39;00m reduction(axis\u001b[39m=\u001b[39maxis, out\u001b[39m=\u001b[39mout, \u001b[39m*\u001b[39m\u001b[39m*\u001b[39mpasskwargs)\n\u001b[1;32m---> <a href='file:///c%3A/Python310/lib/site-packages/numpy/core/fromnumeric.py?line=85'>86</a>\u001b[0m \u001b[39mreturn\u001b[39;00m ufunc\u001b[39m.\u001b[39mreduce(obj, axis, dtype, out, \u001b[39m*\u001b[39m\u001b[39m*\u001b[39mpasskwargs)\n",
      "\u001b[1;31mTypeError\u001b[0m: 'numpy.float64' object cannot be interpreted as an integer"
     ]
    }
   ],
   "source": [
    "# Kovarianz-Ellipse\n",
    "import math\n",
    "from matplotlib import patches\n",
    "\n",
    "setosa_ellipse_width = 2 * math.sqrt(setosa_eigenvalues[0])\n",
    "setosa_ellipse_height = 2 * math.sqrt(setosa_eigenvalues[1])\n",
    "setosa_ellipse_angle = math.atan2(\n",
    "    np.amax(setosa_eigenvecors[0], np.amax(setosa_eigenvecors[1]))\n",
    ")\n",
    "\n",
    "ellipse = patches.Ellipse(\n",
    "    (setosa_eigenvalues[0], setosa_eigenvalues[1]),\n",
    "    width=setosa_ellipse_width,\n",
    "    height=setosa_ellipse_height,\n",
    "    angle=setosa_ellipse_angle,\n",
    ")\n",
    "\n",
    "plt.plot(ellipse)\n"
   ]
  },
  {
   "cell_type": "code",
   "execution_count": null,
   "metadata": {},
   "outputs": [],
   "source": [
    "plt.plot(setosa_x, setosa_y, \"ro\")\n",
    "plt.plot(avg_setosa_x, avg_setosa_y, \"rx\")\n",
    "plt.plot(virginica_x, virginica_y, \"go\")\n",
    "plt.plot(avg_virginica_x, avg_virginica_y, \"gx\")\n",
    "plt.show()\n"
   ]
  }
 ],
 "metadata": {
  "interpreter": {
   "hash": "2be5faf79681da6f2a61fdfdd5405d65d042280f7fba6178067603e3a2925119"
  },
  "kernelspec": {
   "display_name": "Python 3.10.1 64-bit",
   "language": "python",
   "name": "python3"
  },
  "language_info": {
   "codemirror_mode": {
    "name": "ipython",
    "version": 3
   },
   "file_extension": ".py",
   "mimetype": "text/x-python",
   "name": "python",
   "nbconvert_exporter": "python",
   "pygments_lexer": "ipython3",
   "version": "3.10.1"
  },
  "orig_nbformat": 4
 },
 "nbformat": 4,
 "nbformat_minor": 2
}
