{
 "cells": [
  {
   "cell_type": "markdown",
   "metadata": {},
   "source": [
    "#### Machine Learning for Computer Vision SoSe 20222\n",
    "\n",
    "### Praktikum 5\n",
    "\n",
    "\n",
    "#### Rekonstruktion von Gesichtern mit Eigenfaces.\n",
    "\n",
    "Sie können sich bei diesem Praktikum am PCA-Beispiel aus scikit-learn orientieren:\n",
    "\n",
    "http://scikit-learn.org/stable/auto_examples/applications/plot_face_recognition.html\n",
    "\n",
    "Allerdings werden wir in diesem Praktikum nicht die Klassifikation der Bilder behandeln (das gibt es geanu so in den Link oben), sonderen die Rekonstruktion eines eigenen Bildes mit einer berechneten PCA-Basis.\n"
   ]
  },
  {
   "cell_type": "code",
   "execution_count": 1,
   "metadata": {},
   "outputs": [],
   "source": [
    "# necessary includes\n",
    "import matplotlib.pyplot as plt\n",
    "from sklearn.datasets import fetch_lfw_people\n",
    "from skimage.color import rgb2gray\n",
    "from skimage.transform import resize\n",
    "import numpy as np\n",
    "from skimage import io\n",
    "from sklearn.decomposition import PCA"
   ]
  },
  {
   "cell_type": "code",
   "execution_count": 2,
   "metadata": {},
   "outputs": [],
   "source": [
    "import skimage"
   ]
  },
  {
   "cell_type": "markdown",
   "metadata": {},
   "source": [
    "#### Erstellen einer PCA-Basis für Gesichter\n",
    "\n",
    "Laden Sie die oben beschriebene LFW-Gesichtsdatenbank (siehe Code unten). Verwenden Sie als Merkmale direkt die Graubilder. Welche Dimension hat dabei ein Merkmalsvektor?\n",
    "\n"
   ]
  },
  {
   "cell_type": "code",
   "execution_count": null,
   "metadata": {
    "scrolled": false
   },
   "outputs": [],
   "source": [
    "lfw_people = fetch_lfw_people(min_faces_per_person=70, resize=0.4)\n",
    "n_samples, h, w = lfw_people.images.shape\n"
   ]
  },
  {
   "cell_type": "markdown",
   "metadata": {},
   "source": [
    "Führen Sie für die geladene Bilddatenbank eine PCA durch. Betrachten Sie dabei die 500 wichtigsten Komponenten.\n",
    "\n",
    "Siehe auch:\n",
    "https://scikit-learn.org/stable/modules/generated/sklearn.decomposition.PCA.html"
   ]
  },
  {
   "cell_type": "code",
   "execution_count": null,
   "metadata": {},
   "outputs": [],
   "source": []
  },
  {
   "cell_type": "markdown",
   "metadata": {},
   "source": [
    "#### Rekonstruiern von Gesichtern mit reduzierter Merkmalsanzahl\n",
    "\n",
    "Rekonstruieren Sie nun ein Portrait von sich mit den 500 wichtigsten Eigenvektoren. Dazu müssen Sie zunächst die Eigenwerte Ihres Portraits bezüglich der neuen Basis bekommen, indem Sie das Bild auf die neue Basis projezieren (siehe: \n",
    "https://scikit-learn.org/stable/modules/generated/sklearn.decomposition.PCA.html#sklearn.decomposition.PCA.transform).\n",
    "\n",
    "Dann bilden Sie eine Linearkombination der erhaltenen Eigenwerten mit den Eigenfaces. Visualisieren Sie das Ergebnis."
   ]
  },
  {
   "cell_type": "code",
   "execution_count": null,
   "metadata": {},
   "outputs": [],
   "source": [
    "### Helper function to load an arbitrary image in the right format in the right \n",
    "### size to be projected on a new basis\n",
    "### The loaded image gets scaled to the dimensions given as parameters (h=height,w=width) \n",
    "\n",
    "def get_gray_image_from_file(file_name, h, w):\n",
    "    img = io.imread(file_name)\n",
    "    img = rgb2gray(img)\n",
    "    img = resize(img,(h,w))\n",
    "    img = img * 255\n",
    "    img = np.float32(img)\n",
    "    return img.flatten()"
   ]
  },
  {
   "cell_type": "code",
   "execution_count": null,
   "metadata": {},
   "outputs": [],
   "source": [
    "# load image(s) to transform (Take a picture of youself and load it with the function above)\n",
    "\n"
   ]
  },
  {
   "cell_type": "code",
   "execution_count": null,
   "metadata": {},
   "outputs": [],
   "source": [
    "# transform this newly loaded image to obtain the eigenvalues"
   ]
  },
  {
   "cell_type": "code",
   "execution_count": null,
   "metadata": {},
   "outputs": [],
   "source": [
    "# function to get a reconstructed image given \n",
    "# the basis and the eigenvalues of the image to be reconstructed \n",
    "# def get_reconstructed_img (eigenvals, pca):\n",
    "\n",
    "\n"
   ]
  },
  {
   "cell_type": "code",
   "execution_count": null,
   "metadata": {},
   "outputs": [],
   "source": [
    "# now reconstruct the image given the pca basis and the eigenvalues, "
   ]
  },
  {
   "cell_type": "code",
   "execution_count": null,
   "metadata": {},
   "outputs": [],
   "source": [
    "# show results\n"
   ]
  },
  {
   "cell_type": "code",
   "execution_count": null,
   "metadata": {},
   "outputs": [],
   "source": []
  }
 ],
 "metadata": {
  "kernelspec": {
   "display_name": "tensorflow",
   "language": "python",
   "name": "tensorflow"
  },
  "language_info": {
   "codemirror_mode": {
    "name": "ipython",
    "version": 3
   },
   "file_extension": ".py",
   "mimetype": "text/x-python",
   "name": "python",
   "nbconvert_exporter": "python",
   "pygments_lexer": "ipython3",
   "version": "3.8.5"
  }
 },
 "nbformat": 4,
 "nbformat_minor": 2
}
