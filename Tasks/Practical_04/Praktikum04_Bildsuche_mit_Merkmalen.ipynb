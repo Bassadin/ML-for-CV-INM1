{
 "cells": [
  {
   "cell_type": "markdown",
   "metadata": {},
   "source": [
    "## Machine Learning for Computer Vision SoSe 2022\n",
    "\n",
    "### Praktikum 4\n",
    "\n",
    "Content Based Image Retrieval mit primitiven Merkmalen"
   ]
  },
  {
   "cell_type": "markdown",
   "metadata": {},
   "source": [
    "Bauen Sie ein einfaches System zur inhaltsbasierten Bildsuche, basierend auf Farbmerkmalen. Verwenden\n",
    "Sie dazu die in FELIX bereitgestellte Mini-Bilddatenbank wangCustom10 (1000 Bilder). Sie können das System später ggf. auf Ihre\n",
    "eigenen Bildsammlungen anwenden. "
   ]
  },
  {
   "cell_type": "code",
   "execution_count": 2,
   "metadata": {},
   "outputs": [],
   "source": [
    "from skimage import io\n",
    "from skimage.color import rgb2hsv\n",
    "import numpy as np\n",
    "import matplotlib.pyplot as plt\n"
   ]
  },
  {
   "cell_type": "markdown",
   "metadata": {},
   "source": [
    "Entpacken Sie die bereitgestellte Bildersammlung in einen Ordner relativ zu diesem Notebook, so dass Sie im weitern Verlauf der Übung auf die Bilder zum Anzeigen und zum Berechnen von Merkmalen zugreifen können.\n",
    "\n",
    "Um später einfach auf die Files im Verzeichnis zugreifen zu können, wird im folgenden eine Funktion bereitgestellt, die die Liste der Bilder aus einer Text-Datei ausliest, ggf. mit einem (relativen) Pfad ergänzt und die Liste der Bilder zurückgibt. \n"
   ]
  },
  {
   "cell_type": "code",
   "execution_count": 3,
   "metadata": {},
   "outputs": [],
   "source": [
    "# read the names of the images for the image DB\n",
    "def getFileList(file_name, prefix):\n",
    "    f = open(prefix + \"/\" + file_name,'r')\n",
    "    imgNameList =  []\n",
    "    for line in f:\n",
    "        # open image file\n",
    "        imgNameList.append(prefix + line.rstrip())\n",
    "    f.close()\n",
    "    return imgNameList"
   ]
  },
  {
   "cell_type": "markdown",
   "metadata": {},
   "source": [
    "#### Erstellung von HSV-Farbhistogrammen\n",
    "Schreiben Sie eine Funktion, die von einem Bild ein globales HSV-Farbhistogramm als Merkmal berechnet. Als Eingabeparameter soll dabei der Dateiname dienen. Als Rückgabewert soll die Funktion einen\n",
    "numpy-Vektor erzeugen. Wählen Sie eine geeignete Quantisierung für das Histogramm.\n",
    "\n",
    "http://scikit-image.org/docs/dev/api/skimage.color.html#skimage.color.rgb2hsv\n",
    "\n",
    "https://docs.scipy.org/doc/numpy/reference/generated/numpy.histogramdd.html\n"
   ]
  },
  {
   "cell_type": "code",
   "execution_count": 4,
   "metadata": {},
   "outputs": [
    {
     "name": "stdout",
     "output_type": "stream",
     "text": [
      "(45,)\n"
     ]
    },
    {
     "data": {
      "image/png": "[encoded data removed]",
      "text/plain": [
       "<Figure size 432x288 with 1 Axes>"
      ]
     },
     "metadata": {
      "needs_background": "light"
     },
     "output_type": "display_data"
    }
   ],
   "source": [
    "# Generated 3 * 5 * 5 = 45 bins\n",
    "\n",
    "def hsvHistogramForRgbImage(imageFileName):\n",
    "    img = io.imread(imageFileName)\n",
    "    hsv_img = rgb2hsv(img).reshape(-1, 3)\n",
    "    hist, edges = np.histogramdd(hsv_img, bins=(5, 3, 3))\n",
    "    hist = hist.flatten()\n",
    "    hist = hist / sum(hist)\n",
    "    return hist\n",
    "\n",
    "histogram_data = hsvHistogramForRgbImage(\"wangCustom10/mushroom/208009.jpg\")\n",
    "\n",
    "print(histogram_data.shape)\n",
    "plt.hist(histogram_data, bins=45)\n",
    "plt.show()\n"
   ]
  },
  {
   "cell_type": "markdown",
   "metadata": {},
   "source": [
    "#### Histogramm Intersection zur Ähnlichkeitsbestimmung\n",
    "Implementieren Sie eine Funktion, die zwei Merkmalsvektoren entgegennimmt und als Ähnlichkeitsmaß\n",
    "den Histogram-Intersection Wert zurückgibt."
   ]
  },
  {
   "cell_type": "code",
   "execution_count": 17,
   "metadata": {},
   "outputs": [
    {
     "name": "stdout",
     "output_type": "stream",
     "text": [
      "Similar: 0.527984619140625\n",
      "The same: 0.9999999999999999\n"
     ]
    }
   ],
   "source": [
    "# https://stackoverflow.com/questions/52184242/numpy-calculate-histogram-intersection\n",
    "def histogram_intersection(h1, h2):\n",
    "    sm = 0\n",
    "    # Use 45 bins here also\n",
    "    for i in range(45):\n",
    "        sm += min(h1[i], h2[i])\n",
    "    return sm\n",
    "\n",
    "\n",
    "histogram_compare_data_1 = hsvHistogramForRgbImage(\"wangCustom10/mushroom/208009.jpg\")\n",
    "histogram_compare_data_2 = hsvHistogramForRgbImage(\"wangCustom10/mushroom/208010.jpg\")\n",
    "\n",
    "print(\"Similar: \" + str(histogram_intersection(histogram_compare_data_1, histogram_compare_data_2)))\n",
    "\n",
    "histogram_compare_data_3 = hsvHistogramForRgbImage(\"wangCustom10/mushroom/208010.jpg\")\n",
    "histogram_compare_data_4 = hsvHistogramForRgbImage(\"wangCustom10/mushroom/208010.jpg\")\n",
    "\n",
    "print(\"The same: \" + str(histogram_intersection(histogram_compare_data_3, histogram_compare_data_4)))"
   ]
  },
  {
   "cell_type": "markdown",
   "metadata": {},
   "source": [
    "#### Erstellung Featuredatenbank\n",
    "Erstellen Sie nun ein Skript, das HSV-Farbhistogramme für alle Bilder einer (kleinen) Bilddatenbank\n",
    "vorberechnet und abspeichert. Sie können dabei die Liste mit den Bildnamen von oben verwenden. Achten Sie darauf, dass Sie die Merkmalsvektoren noch den Bildnamen zuordnen können (für ein Späteres Anzeigen der Bilder)."
   ]
  },
  {
   "cell_type": "code",
   "execution_count": null,
   "metadata": {},
   "outputs": [],
   "source": [
    "\n"
   ]
  },
  {
   "cell_type": "markdown",
   "metadata": {},
   "source": [
    "#### Ähnlichste Bilder bestimmen\n",
    "Erstellen Sie eine Funktion, die für ein Anfragebild die Ähnlickeiten zu allen Bildern in der DB berechnet\n",
    "(mit Hilfe der Histogram Intersection). Die Ähnlichkeiten sollen als 1D np-Array zurückgegeben werden."
   ]
  },
  {
   "cell_type": "code",
   "execution_count": null,
   "metadata": {},
   "outputs": [],
   "source": [
    "\n"
   ]
  },
  {
   "cell_type": "markdown",
   "metadata": {},
   "source": [
    "#### Visualisierung Ergebnisse\n",
    "Suchen Sie nun ein Anfragebild aus (kann in der vorgegebenen Sammlung enthalten sein). Zu diesem Anfragebild sollen nun die 10 ähnlichsten Bilder (bzüglich den oben erstellten Merkmalen und HI) gefunden werden.\n",
    "\n",
    "Geben Sie die 10 ähnlichsten Bilder in einer übersichtlichen Darstellung aus. Ergänzen Sie die Darstellung der Bilder mit dem jeweiligen Ähnlichkeitswert. \n"
   ]
  },
  {
   "cell_type": "code",
   "execution_count": null,
   "metadata": {},
   "outputs": [],
   "source": [
    "\n"
   ]
  },
  {
   "cell_type": "markdown",
   "metadata": {},
   "source": [
    "Um das spätere Experimentieren zu erleichtern können Sie die berechneten Merkmale in einer Datei persistieren, um später nicht mehr alles neu berechnen zu müssen. Dann können Sie bei Bedarf einfach die Merkmale aus der Datei laden.\n",
    "\n",
    "https://scikit-learn.org/stable/modules/model_persistence.html"
   ]
  },
  {
   "cell_type": "code",
   "execution_count": null,
   "metadata": {},
   "outputs": [],
   "source": []
  },
  {
   "cell_type": "markdown",
   "metadata": {},
   "source": [
    "Experimentieren Sie! Wann funktioniert die Bildsuche mit Farbhistogrammen gut, wann nicht?"
   ]
  },
  {
   "cell_type": "code",
   "execution_count": null,
   "metadata": {},
   "outputs": [],
   "source": []
  },
  {
   "cell_type": "code",
   "execution_count": null,
   "metadata": {},
   "outputs": [],
   "source": []
  }
 ],
 "metadata": {
  "kernelspec": {
   "display_name": "Python 3",
   "language": "python",
   "name": "python3"
  },
  "language_info": {
   "codemirror_mode": {
    "name": "ipython",
    "version": 3
   },
   "file_extension": ".py",
   "mimetype": "text/x-python",
   "name": "python",
   "nbconvert_exporter": "python",
   "pygments_lexer": "ipython3",
   "version": "3.10.1"
  }
 },
 "nbformat": 4,
 "nbformat_minor": 2
}
