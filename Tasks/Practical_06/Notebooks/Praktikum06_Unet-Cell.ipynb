{
 "cells": [
  {
   "cell_type": "code",
   "execution_count": 142,
   "metadata": {},
   "outputs": [],
   "source": [
    "import os\n",
    "\n",
    "import numpy as np # linear algebra\n",
    "import pandas as pd # data processing, CSV file I/O (e.g. pd.read_csv)\n"
   ]
  },
  {
   "cell_type": "code",
   "execution_count": 143,
   "metadata": {},
   "outputs": [
    {
     "name": "stdout",
     "output_type": "stream",
     "text": [
      "Requirement already satisfied: opencv-python in c:\\python310\\lib\\site-packages (4.5.5.64)\n",
      "Requirement already satisfied: numpy>=1.21.2 in c:\\python310\\lib\\site-packages (from opencv-python) (1.22.3)\n",
      "Note: you may need to restart the kernel to use updated packages.\n"
     ]
    },
    {
     "name": "stderr",
     "output_type": "stream",
     "text": [
      "WARNING: Ignoring invalid distribution -ip (c:\\python310\\lib\\site-packages)\n",
      "WARNING: Ignoring invalid distribution -ensorflow (c:\\python310\\lib\\site-packages)\n",
      "WARNING: Ignoring invalid distribution -ip (c:\\python310\\lib\\site-packages)\n",
      "WARNING: Ignoring invalid distribution -ensorflow (c:\\python310\\lib\\site-packages)\n",
      "WARNING: Ignoring invalid distribution -ip (c:\\python310\\lib\\site-packages)\n",
      "WARNING: Ignoring invalid distribution -ensorflow (c:\\python310\\lib\\site-packages)\n",
      "WARNING: Ignoring invalid distribution -ip (c:\\python310\\lib\\site-packages)\n",
      "WARNING: Ignoring invalid distribution -ensorflow (c:\\python310\\lib\\site-packages)\n",
      "WARNING: Ignoring invalid distribution -ip (c:\\python310\\lib\\site-packages)\n",
      "WARNING: Ignoring invalid distribution -ensorflow (c:\\python310\\lib\\site-packages)\n"
     ]
    }
   ],
   "source": [
    "pip install opencv-python"
   ]
  },
  {
   "cell_type": "code",
   "execution_count": 144,
   "metadata": {},
   "outputs": [],
   "source": [
    "import cv2"
   ]
  },
  {
   "cell_type": "code",
   "execution_count": 145,
   "metadata": {},
   "outputs": [],
   "source": [
    "import matplotlib.pyplot as plt"
   ]
  },
  {
   "cell_type": "code",
   "execution_count": 146,
   "metadata": {},
   "outputs": [],
   "source": [
    "%matplotlib inline"
   ]
  },
  {
   "cell_type": "code",
   "execution_count": 147,
   "metadata": {},
   "outputs": [],
   "source": [
    "from sklearn.model_selection import train_test_split"
   ]
  },
  {
   "cell_type": "code",
   "execution_count": 148,
   "metadata": {},
   "outputs": [],
   "source": [
    "import tensorflow as tf"
   ]
  },
  {
   "cell_type": "code",
   "execution_count": 149,
   "metadata": {},
   "outputs": [],
   "source": [
    "from tensorflow.keras.models import Model"
   ]
  },
  {
   "cell_type": "code",
   "execution_count": 150,
   "metadata": {},
   "outputs": [],
   "source": [
    "from keras.layers import *\n",
    "#from keras.optimizers import Adam\n",
    "from keras.regularizers import l2\n",
    "from keras.preprocessing.image import ImageDataGenerator\n",
    "import keras.backend as K\n",
    "from keras.callbacks import LearningRateScheduler, ModelCheckpoint"
   ]
  },
  {
   "cell_type": "code",
   "execution_count": 151,
   "metadata": {},
   "outputs": [],
   "source": [
    "IMAGE_LIB = '../Cell-data/cell_images/'\n",
    "MASK_LIB = '../Cell-data/cell_masks/'\n",
    "IMG_HEIGHT, IMG_WIDTH = 32, 32\n",
    "SEED=42"
   ]
  },
  {
   "cell_type": "code",
   "execution_count": 152,
   "metadata": {},
   "outputs": [],
   "source": [
    "all_images = [x for x in sorted(os.listdir(IMAGE_LIB)) if x[-4:] == '.jpg']"
   ]
  },
  {
   "cell_type": "code",
   "execution_count": 153,
   "metadata": {},
   "outputs": [],
   "source": [
    "# print(all_images)\n",
    "\n",
    "imagesWithoutMask = []\n",
    "imagesWithMask = []\n",
    "\n",
    "for eachImgName in all_images:\n",
    "    foundMaskPath = False\n",
    "    for eachMaskImgPath in os.listdir(MASK_LIB):\n",
    "        if eachImgName[:-4] in eachMaskImgPath:\n",
    "            imagesWithMask.append(eachImgName)\n",
    "            foundMaskPath = True\n",
    "    if not foundMaskPath:\n",
    "        imagesWithoutMask.append(eachImgName)\n",
    "\n",
    "\n",
    "# print(imagesWithoutMask)\n",
    "# print(len(imagesWithoutMask))\n"
   ]
  },
  {
   "cell_type": "code",
   "execution_count": 154,
   "metadata": {},
   "outputs": [],
   "source": [
    "x_data = np.empty((len(imagesWithMask), IMG_HEIGHT, IMG_WIDTH), dtype='float32')"
   ]
  },
  {
   "cell_type": "code",
   "execution_count": 155,
   "metadata": {},
   "outputs": [],
   "source": [
    "for i, name in enumerate(imagesWithMask):\n",
    "    im = cv2.imread(IMAGE_LIB + name, cv2.IMREAD_UNCHANGED).astype(\"int16\").astype('float32')\n",
    "    im_gray = cv2.cvtColor(im, cv2.COLOR_BGR2GRAY)\n",
    "    im_gray = cv2.resize(im_gray, dsize=(IMG_WIDTH, IMG_HEIGHT), interpolation=cv2.INTER_LANCZOS4)\n",
    "    im_gray = (im_gray - np.min(im_gray)) / (np.max(im_gray) - np.min(im_gray))\n",
    "    x_data[i] = im_gray"
   ]
  },
  {
   "cell_type": "code",
   "execution_count": 156,
   "metadata": {},
   "outputs": [],
   "source": [
    "y_data = np.empty((len(imagesWithMask), IMG_HEIGHT, IMG_WIDTH), dtype='float32')\n",
    "for i, name in enumerate(imagesWithMask):\n",
    "    im = cv2.imread(MASK_LIB + name[:-4] + \"_mask_AWA.jpg\", cv2.IMREAD_UNCHANGED).astype('float32')/255.\n",
    "    im_gray = cv2.cvtColor(im, cv2.COLOR_BGR2GRAY)\n",
    "    im_gray = cv2.resize(im_gray, dsize=(IMG_WIDTH, IMG_HEIGHT), interpolation=cv2.INTER_NEAREST)\n",
    "    y_data[i] = im_gray"
   ]
  },
  {
   "cell_type": "code",
   "execution_count": 157,
   "metadata": {},
   "outputs": [
    {
     "data": {
      "image/png": "[encoded data removed]",
      "text/plain": [
       "<Figure size 576x288 with 2 Axes>"
      ]
     },
     "metadata": {
      "needs_background": "light"
     },
     "output_type": "display_data"
    }
   ],
   "source": [
    "fig, ax = plt.subplots(1,2, figsize = (8,4))\n",
    "ax[0].imshow(x_data[12], cmap='gray')\n",
    "ax[1].imshow(y_data[12], cmap='gray')\n",
    "plt.show()"
   ]
  },
  {
   "cell_type": "code",
   "execution_count": 158,
   "metadata": {},
   "outputs": [],
   "source": [
    "x_data = x_data[:,:,:,np.newaxis]\n",
    "y_data = y_data[:,:,:,np.newaxis]\n",
    "x_train, x_val, y_train, y_val = train_test_split(x_data, y_data, test_size = 0.5)"
   ]
  },
  {
   "cell_type": "code",
   "execution_count": 159,
   "metadata": {},
   "outputs": [],
   "source": [
    "def dice_coef(y_true, y_pred):\n",
    "    y_true_f = K.flatten(y_true)\n",
    "    y_pred_f = K.flatten(y_pred)\n",
    "    intersection = K.sum(y_true_f * y_pred_f)\n",
    "    return (2. * intersection + K.epsilon()) / (K.sum(y_true_f) + K.sum(y_pred_f) + K.epsilon())"
   ]
  },
  {
   "cell_type": "code",
   "execution_count": 160,
   "metadata": {},
   "outputs": [],
   "source": [
    "input_layer = Input(shape=x_train.shape[1:])\n",
    "c1 = Conv2D(filters=8, kernel_size=(3,3), activation='relu', padding='same')(input_layer)\n",
    "l = MaxPool2D(strides=(2,2))(c1)\n",
    "c2 = Conv2D(filters=16, kernel_size=(3,3), activation='relu', padding='same')(l)\n",
    "l = MaxPool2D(strides=(2,2))(c2)\n",
    "c3 = Conv2D(filters=32, kernel_size=(3,3), activation='relu', padding='same')(l)\n",
    "l = MaxPool2D(strides=(2,2))(c3)\n",
    "c4 = Conv2D(filters=32, kernel_size=(1,1), activation='relu', padding='same')(l)\n",
    "l = concatenate([UpSampling2D(size=(2,2))(c4), c3], axis=-1)\n",
    "l = Conv2D(filters=32, kernel_size=(2,2), activation='relu', padding='same')(l)\n",
    "l = concatenate([UpSampling2D(size=(2,2))(l), c2], axis=-1)\n",
    "l = Conv2D(filters=24, kernel_size=(2,2), activation='relu', padding='same')(l)\n",
    "l = concatenate([UpSampling2D(size=(2,2))(l), c1], axis=-1)\n",
    "l = Conv2D(filters=16, kernel_size=(2,2), activation='relu', padding='same')(l)\n",
    "l = Conv2D(filters=64, kernel_size=(1,1), activation='relu')(l)\n",
    "l = Dropout(0.5)(l)\n",
    "output_layer = Conv2D(filters=1, kernel_size=(1,1), activation='sigmoid')(l)\n",
    "                                                         \n",
    "model = Model(input_layer, output_layer)\n"
   ]
  },
  {
   "cell_type": "code",
   "execution_count": 161,
   "metadata": {},
   "outputs": [
    {
     "name": "stdout",
     "output_type": "stream",
     "text": [
      "Model: \"model_3\"\n",
      "__________________________________________________________________________________________________\n",
      " Layer (type)                   Output Shape         Param #     Connected to                     \n",
      "==================================================================================================\n",
      " input_4 (InputLayer)           [(None, 32, 32, 1)]  0           []                               \n",
      "                                                                                                  \n",
      " conv2d_27 (Conv2D)             (None, 32, 32, 8)    80          ['input_4[0][0]']                \n",
      "                                                                                                  \n",
      " max_pooling2d_9 (MaxPooling2D)  (None, 16, 16, 8)   0           ['conv2d_27[0][0]']              \n",
      "                                                                                                  \n",
      " conv2d_28 (Conv2D)             (None, 16, 16, 16)   1168        ['max_pooling2d_9[0][0]']        \n",
      "                                                                                                  \n",
      " max_pooling2d_10 (MaxPooling2D  (None, 8, 8, 16)    0           ['conv2d_28[0][0]']              \n",
      " )                                                                                                \n",
      "                                                                                                  \n",
      " conv2d_29 (Conv2D)             (None, 8, 8, 32)     4640        ['max_pooling2d_10[0][0]']       \n",
      "                                                                                                  \n",
      " max_pooling2d_11 (MaxPooling2D  (None, 4, 4, 32)    0           ['conv2d_29[0][0]']              \n",
      " )                                                                                                \n",
      "                                                                                                  \n",
      " conv2d_30 (Conv2D)             (None, 4, 4, 32)     1056        ['max_pooling2d_11[0][0]']       \n",
      "                                                                                                  \n",
      " up_sampling2d_9 (UpSampling2D)  (None, 8, 8, 32)    0           ['conv2d_30[0][0]']              \n",
      "                                                                                                  \n",
      " concatenate_9 (Concatenate)    (None, 8, 8, 64)     0           ['up_sampling2d_9[0][0]',        \n",
      "                                                                  'conv2d_29[0][0]']              \n",
      "                                                                                                  \n",
      " conv2d_31 (Conv2D)             (None, 8, 8, 32)     8224        ['concatenate_9[0][0]']          \n",
      "                                                                                                  \n",
      " up_sampling2d_10 (UpSampling2D  (None, 16, 16, 32)  0           ['conv2d_31[0][0]']              \n",
      " )                                                                                                \n",
      "                                                                                                  \n",
      " concatenate_10 (Concatenate)   (None, 16, 16, 48)   0           ['up_sampling2d_10[0][0]',       \n",
      "                                                                  'conv2d_28[0][0]']              \n",
      "                                                                                                  \n",
      " conv2d_32 (Conv2D)             (None, 16, 16, 24)   4632        ['concatenate_10[0][0]']         \n",
      "                                                                                                  \n",
      " up_sampling2d_11 (UpSampling2D  (None, 32, 32, 24)  0           ['conv2d_32[0][0]']              \n",
      " )                                                                                                \n",
      "                                                                                                  \n",
      " concatenate_11 (Concatenate)   (None, 32, 32, 32)   0           ['up_sampling2d_11[0][0]',       \n",
      "                                                                  'conv2d_27[0][0]']              \n",
      "                                                                                                  \n",
      " conv2d_33 (Conv2D)             (None, 32, 32, 16)   2064        ['concatenate_11[0][0]']         \n",
      "                                                                                                  \n",
      " conv2d_34 (Conv2D)             (None, 32, 32, 64)   1088        ['conv2d_33[0][0]']              \n",
      "                                                                                                  \n",
      " dropout_3 (Dropout)            (None, 32, 32, 64)   0           ['conv2d_34[0][0]']              \n",
      "                                                                                                  \n",
      " conv2d_35 (Conv2D)             (None, 32, 32, 1)    65          ['dropout_3[0][0]']              \n",
      "                                                                                                  \n",
      "==================================================================================================\n",
      "Total params: 23,017\n",
      "Trainable params: 23,017\n",
      "Non-trainable params: 0\n",
      "__________________________________________________________________________________________________\n"
     ]
    }
   ],
   "source": [
    " model.summary()"
   ]
  },
  {
   "cell_type": "code",
   "execution_count": 162,
   "metadata": {},
   "outputs": [],
   "source": [
    "def my_generator(x_train, y_train, batch_size):\n",
    "    data_generator = ImageDataGenerator(\n",
    "            width_shift_range=0.1,\n",
    "            height_shift_range=0.1,\n",
    "            rotation_range=10,\n",
    "            zoom_range=0.1).flow(x_train, x_train, batch_size, seed=SEED)\n",
    "    mask_generator = ImageDataGenerator(\n",
    "            width_shift_range=0.1,\n",
    "            height_shift_range=0.1,\n",
    "            rotation_range=10,\n",
    "            zoom_range=0.1).flow(y_train, y_train, batch_size, seed=SEED)\n",
    "    while True:\n",
    "        x_batch, _ = data_generator.next()\n",
    "        y_batch, _ = mask_generator.next()\n",
    "        yield x_batch, y_batch"
   ]
  },
  {
   "cell_type": "code",
   "execution_count": 163,
   "metadata": {},
   "outputs": [
    {
     "data": {
      "image/png": "[encoded data removed]",
      "text/plain": [
       "<Figure size 288x288 with 8 Axes>"
      ]
     },
     "metadata": {
      "needs_background": "light"
     },
     "output_type": "display_data"
    }
   ],
   "source": [
    "image_batch, mask_batch = next(my_generator(x_train, y_train, 8))\n",
    "fix, ax = plt.subplots(4,2, figsize=(4,4))\n",
    "for i in range(4):\n",
    "    ax[i,0].imshow(image_batch[i,:,:,0], cmap='gray')\n",
    "    ax[i,1].imshow(mask_batch[i,:,:,0], cmap ='gray')\n",
    "plt.show()"
   ]
  },
  {
   "cell_type": "code",
   "execution_count": 164,
   "metadata": {},
   "outputs": [],
   "source": [
    "model.compile( loss='binary_crossentropy', metrics=[dice_coef])"
   ]
  },
  {
   "cell_type": "code",
   "execution_count": 165,
   "metadata": {},
   "outputs": [],
   "source": [
    "weight_saver = ModelCheckpoint('cell.h5', monitor='val_dice_coef', \n",
    "                                              save_best_only=True, save_weights_only=True)\n",
    "annealer = LearningRateScheduler(lambda x: 1e-3 * 0.8 ** x)"
   ]
  },
  {
   "cell_type": "code",
   "execution_count": 166,
   "metadata": {},
   "outputs": [
    {
     "name": "stdout",
     "output_type": "stream",
     "text": [
      "Epoch 1/10\n",
      "200/200 - 4s - loss: 0.2673 - dice_coef: 0.8842 - val_loss: 0.1936 - val_dice_coef: 0.9284 - lr: 0.0010 - 4s/epoch - 20ms/step\n",
      "Epoch 2/10\n",
      "200/200 - 3s - loss: 0.1691 - dice_coef: 0.9326 - val_loss: 0.2172 - val_dice_coef: 0.9346 - lr: 8.0000e-04 - 3s/epoch - 16ms/step\n",
      "Epoch 3/10\n",
      "200/200 - 3s - loss: 0.1417 - dice_coef: 0.9438 - val_loss: 0.2112 - val_dice_coef: 0.9306 - lr: 6.4000e-04 - 3s/epoch - 14ms/step\n",
      "Epoch 4/10\n",
      "200/200 - 3s - loss: 0.1236 - dice_coef: 0.9510 - val_loss: 0.1757 - val_dice_coef: 0.9438 - lr: 5.1200e-04 - 3s/epoch - 14ms/step\n",
      "Epoch 5/10\n",
      "200/200 - 2s - loss: 0.1112 - dice_coef: 0.9559 - val_loss: 0.1874 - val_dice_coef: 0.9446 - lr: 4.0960e-04 - 2s/epoch - 12ms/step\n",
      "Epoch 6/10\n",
      "200/200 - 3s - loss: 0.1029 - dice_coef: 0.9593 - val_loss: 0.1800 - val_dice_coef: 0.9488 - lr: 3.2768e-04 - 3s/epoch - 13ms/step\n",
      "Epoch 7/10\n",
      "200/200 - 3s - loss: 0.0963 - dice_coef: 0.9620 - val_loss: 0.1865 - val_dice_coef: 0.9490 - lr: 2.6214e-04 - 3s/epoch - 13ms/step\n",
      "Epoch 8/10\n",
      "200/200 - 3s - loss: 0.0916 - dice_coef: 0.9638 - val_loss: 0.2121 - val_dice_coef: 0.9491 - lr: 2.0972e-04 - 3s/epoch - 13ms/step\n",
      "Epoch 9/10\n",
      "200/200 - 3s - loss: 0.0897 - dice_coef: 0.9645 - val_loss: 0.2071 - val_dice_coef: 0.9501 - lr: 1.6777e-04 - 3s/epoch - 13ms/step\n",
      "Epoch 10/10\n",
      "200/200 - 3s - loss: 0.0858 - dice_coef: 0.9662 - val_loss: 0.2088 - val_dice_coef: 0.9488 - lr: 1.3422e-04 - 3s/epoch - 13ms/step\n"
     ]
    }
   ],
   "source": [
    "hist = model.fit(\n",
    "    my_generator(x_train, y_train, 8),\n",
    "    steps_per_epoch=200,\n",
    "    validation_data=(x_val, y_val),\n",
    "    epochs=10,\n",
    "    verbose=2,\n",
    "    callbacks=[weight_saver, annealer],\n",
    ")\n"
   ]
  },
  {
   "cell_type": "code",
   "execution_count": 179,
   "metadata": {},
   "outputs": [],
   "source": [
    "model.load_weights('cell.h5')"
   ]
  },
  {
   "cell_type": "code",
   "execution_count": 180,
   "metadata": {},
   "outputs": [
    {
     "data": {
      "image/png": "[encoded data removed]",
      "text/plain": [
       "<Figure size 432x288 with 1 Axes>"
      ]
     },
     "metadata": {
      "needs_background": "light"
     },
     "output_type": "display_data"
    },
    {
     "data": {
      "image/png": "[encoded data removed]",
      "text/plain": [
       "<Figure size 432x288 with 1 Axes>"
      ]
     },
     "metadata": {
      "needs_background": "light"
     },
     "output_type": "display_data"
    }
   ],
   "source": [
    "plt.plot(hist.history['loss'], color='b')\n",
    "plt.plot(hist.history['val_loss'], color='r')\n",
    "plt.show()\n",
    "plt.plot(hist.history['dice_coef'], color='b')\n",
    "plt.plot(hist.history['val_dice_coef'], color='r')\n",
    "plt.show()"
   ]
  },
  {
   "cell_type": "code",
   "execution_count": 187,
   "metadata": {},
   "outputs": [
    {
     "data": {
      "text/plain": [
       "<matplotlib.image.AxesImage at 0x168000ead40>"
      ]
     },
     "execution_count": 187,
     "metadata": {},
     "output_type": "execute_result"
    },
    {
     "data": {
      "image/png": "[encoded data removed]",
      "text/plain": [
       "<Figure size 432x288 with 1 Axes>"
      ]
     },
     "metadata": {
      "needs_background": "light"
     },
     "output_type": "display_data"
    }
   ],
   "source": [
    "plt.imshow(x_train[5],cmap='gray')\n",
    "plt.imshow(model.predict(x_train[5].reshape(1,IMG_HEIGHT, IMG_WIDTH, 1))[0,:,:,0], cmap='gray')"
   ]
  },
  {
   "cell_type": "code",
   "execution_count": 188,
   "metadata": {},
   "outputs": [
    {
     "data": {
      "text/plain": [
       "<matplotlib.image.AxesImage at 0x16801509960>"
      ]
     },
     "execution_count": 188,
     "metadata": {},
     "output_type": "execute_result"
    },
    {
     "data": {
      "image/png": "[encoded data removed]",
      "text/plain": [
       "<Figure size 864x432 with 3 Axes>"
      ]
     },
     "metadata": {
      "needs_background": "light"
     },
     "output_type": "display_data"
    }
   ],
   "source": [
    "y_hat = model.predict(x_val)\n",
    "fig, ax = plt.subplots(1,3,figsize=(12,6))\n",
    "ax[0].imshow(x_val[0,:,:,0], cmap='gray')\n",
    "ax[1].imshow(y_val[0,:,:,0])\n",
    "ax[2].imshow(y_hat[0,:,:,0])"
   ]
  },
  {
   "cell_type": "code",
   "execution_count": 171,
   "metadata": {},
   "outputs": [
    {
     "data": {
      "text/plain": [
       "24"
      ]
     },
     "execution_count": 171,
     "metadata": {},
     "output_type": "execute_result"
    }
   ],
   "source": [
    "len(x_val)\n"
   ]
  },
  {
   "cell_type": "code",
   "execution_count": 190,
   "metadata": {},
   "outputs": [
    {
     "data": {
      "text/plain": [
       "<matplotlib.image.AxesImage at 0x168015de2c0>"
      ]
     },
     "execution_count": 190,
     "metadata": {},
     "output_type": "execute_result"
    },
    {
     "data": {
      "image/png": "[encoded data removed]",
      "text/plain": [
       "<Figure size 864x432 with 3 Axes>"
      ]
     },
     "metadata": {
      "needs_background": "light"
     },
     "output_type": "display_data"
    }
   ],
   "source": [
    "fig, ax = plt.subplots(1,3,figsize=(12,6))\n",
    "ax[0].imshow(x_val[12,:,:,0], cmap='gray')\n",
    "ax[1].imshow(y_val[12,:,:,0])\n",
    "ax[2].imshow(y_hat[12,:,:,0])\n"
   ]
  },
  {
   "cell_type": "code",
   "execution_count": 191,
   "metadata": {},
   "outputs": [
    {
     "data": {
      "text/plain": [
       "True"
      ]
     },
     "execution_count": 191,
     "metadata": {},
     "output_type": "execute_result"
    }
   ],
   "source": [
    "cv2.imwrite('prediction_12.png',y_hat[12,:,:,0])"
   ]
  },
  {
   "cell_type": "code",
   "execution_count": 192,
   "metadata": {},
   "outputs": [],
   "source": [
    "y_hat_new = 255*y_hat[12,:,:,0]"
   ]
  },
  {
   "cell_type": "code",
   "execution_count": 193,
   "metadata": {},
   "outputs": [
    {
     "data": {
      "text/plain": [
       "array([[254.99963, 254.99939, 254.99887, ..., 254.9973 , 254.97469,\n",
       "        254.52087],\n",
       "       [254.99957, 254.99942, 254.99908, ..., 254.9969 , 254.97307,\n",
       "        254.516  ],\n",
       "       [254.99954, 254.99933, 254.9992 , ..., 254.99657, 254.9716 ,\n",
       "        254.51585],\n",
       "       ...,\n",
       "       [254.99936, 254.99945, 254.99957, ..., 254.98364, 254.86865,\n",
       "        253.34596],\n",
       "       [254.98756, 254.98897, 254.99072, ..., 254.76117, 253.73112,\n",
       "        249.08951],\n",
       "       [254.83447, 254.84978, 254.86243, ..., 253.42882, 250.59433,\n",
       "        237.62422]], dtype=float32)"
      ]
     },
     "execution_count": 193,
     "metadata": {},
     "output_type": "execute_result"
    }
   ],
   "source": [
    "y_hat_new"
   ]
  },
  {
   "cell_type": "code",
   "execution_count": 194,
   "metadata": {},
   "outputs": [
    {
     "data": {
      "text/plain": [
       "array([[254, 254, 254, ..., 254, 254, 254],\n",
       "       [254, 254, 254, ..., 254, 254, 254],\n",
       "       [254, 254, 254, ..., 254, 254, 254],\n",
       "       ...,\n",
       "       [254, 254, 254, ..., 254, 254, 253],\n",
       "       [254, 254, 254, ..., 254, 253, 249],\n",
       "       [254, 254, 254, ..., 253, 250, 237]])"
      ]
     },
     "execution_count": 194,
     "metadata": {},
     "output_type": "execute_result"
    }
   ],
   "source": [
    "y_hat_new.astype(int)"
   ]
  },
  {
   "cell_type": "code",
   "execution_count": 195,
   "metadata": {},
   "outputs": [
    {
     "data": {
      "text/plain": [
       "True"
      ]
     },
     "execution_count": 195,
     "metadata": {},
     "output_type": "execute_result"
    }
   ],
   "source": [
    "cv2.imwrite('prediction_12.png',y_hat_new)"
   ]
  },
  {
   "cell_type": "code",
   "execution_count": null,
   "metadata": {},
   "outputs": [],
   "source": []
  }
 ],
 "metadata": {
  "kernelspec": {
   "display_name": "Python 3 (ipykernel)",
   "language": "python",
   "name": "python3"
  },
  "language_info": {
   "codemirror_mode": {
    "name": "ipython",
    "version": 3
   },
   "file_extension": ".py",
   "mimetype": "text/x-python",
   "name": "python",
   "nbconvert_exporter": "python",
   "pygments_lexer": "ipython3",
   "version": "3.10.1"
  }
 },
 "nbformat": 4,
 "nbformat_minor": 4
}
